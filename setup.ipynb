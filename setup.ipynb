{
 "cells": [
  {
   "cell_type": "markdown",
   "metadata": {},
   "source": [
    "Run the following two cells to download the files from Github and permenantly store them in your Google Drive"
   ]
  },
  {
   "cell_type": "code",
   "execution_count": null,
   "metadata": {
    "id": "dcc6ILeltivN"
   },
   "outputs": [],
   "source": [
    "# Git pull the codes from github to your colab machine\n",
    "# You will have this message:\n",
    "    # Warning: This notebook was not authored by Google.\n",
    "        # Click RUN ANYWAY\n",
    "!git clone https://github.com/EvelynChee/CS5344_AY2425Sem2_Lab.git"
   ]
  },
  {
   "cell_type": "code",
   "execution_count": null,
   "metadata": {
    "id": "ScwIMm73yTGf"
   },
   "outputs": [],
   "source": [
    "# Mount Google Drive to the colab machine\n",
    "# You will a pop-up to ALLOW google drive to access to your google account\n",
    "\n",
    "from google.colab import drive\n",
    "drive.mount('/content/gdrive')\n",
    "\n",
    "# Copy github folder from colab machine to your google drive\n",
    "!cp -R /content/CS5344_AY2425Sem2_Lab /content/gdrive/My\\ Drive/CS5344_AY2425Sem2_Lab\n",
    "!rm -R /content/CS5344_AY2425Sem2_Lab"
   ]
  },
  {
   "cell_type": "markdown",
   "metadata": {
    "id": "3F1TZaabyigA"
   },
   "source": [
    "Setup is done once you can see the folder `CS5344_AY2425Sem2_Lab` in your Google Drive"
   ]
  },
  {
   "cell_type": "code",
   "execution_count": null,
   "metadata": {
    "id": "tzl9pOat3tFJ"
   },
   "outputs": [],
   "source": []
  }
 ],
 "metadata": {
  "colab": {
   "authorship_tag": "ABX9TyNWkqwQ5SU+bqzELzKShXs7",
   "provenance": []
  },
  "kernelspec": {
   "display_name": "Python 3",
   "name": "python3"
  },
  "language_info": {
   "name": "python"
  }
 },
 "nbformat": 4,
 "nbformat_minor": 0
}
